{
  "nbformat": 4,
  "nbformat_minor": 0,
  "metadata": {
    "colab": {
      "provenance": [],
      "authorship_tag": "ABX9TyObVTtyv3eTTZqX3lZ47+u7",
      "include_colab_link": true
    },
    "kernelspec": {
      "name": "python3",
      "display_name": "Python 3"
    },
    "language_info": {
      "name": "python"
    }
  },
  "cells": [
    {
      "cell_type": "markdown",
      "metadata": {
        "id": "view-in-github",
        "colab_type": "text"
      },
      "source": [
        "<a href=\"https://colab.research.google.com/github/LingampallyDeekshit/PYTHON-p/blob/main/internal%20programs%20.ipynb\" target=\"_parent\"><img src=\"https://colab.research.google.com/assets/colab-badge.svg\" alt=\"Open In Colab\"/></a>"
      ]
    },
    {
      "cell_type": "code",
      "execution_count": 39,
      "metadata": {
        "colab": {
          "base_uri": "https://localhost:8080/"
        },
        "id": "UcI18slRhJ_6",
        "outputId": "5c43c2e3-af59-45d9-c349-9ac2bd891d56"
      },
      "outputs": [
        {
          "output_type": "stream",
          "name": "stdout",
          "text": [
            "False\n",
            "True\n"
          ]
        }
      ],
      "source": [
        "def my_desending(list):\n",
        "  for i in range(len(list) - 1):\n",
        "    if list[i] <  list[i + 1]:\n",
        "      return False\n",
        "    return True\n",
        "\n",
        "print(my_desending([1,2,3,4,5,6,7]))\n",
        "print(my_desending([6,5,4,3,2,1]))"
      ]
    },
    {
      "cell_type": "code",
      "source": [
        "from google.colab import drive\n",
        "drive.mount('/content/drive')"
      ],
      "metadata": {
        "id": "fKVxPCo6jO4V"
      },
      "execution_count": null,
      "outputs": []
    },
    {
      "cell_type": "code",
      "source": [
        "numbers = [1,1,2,2,3,4,5,6,6]\n",
        "varity_numbers = list(dict.fromkeys(numbers))\n",
        "print(varity_numbers)"
      ],
      "metadata": {
        "colab": {
          "base_uri": "https://localhost:8080/"
        },
        "id": "C3p1fUr9sFh5",
        "outputId": "963d263f-1a00-4496-d3cb-85e97dc602ab"
      },
      "execution_count": 40,
      "outputs": [
        {
          "output_type": "stream",
          "name": "stdout",
          "text": [
            "[1, 2, 3, 4, 5, 6]\n"
          ]
        }
      ]
    },
    {
      "cell_type": "code",
      "source": [
        "def has_duplicates(list):\n",
        "  return len(list) != len(set(list))\n",
        "\n",
        "print(has_duplicates([1,1,2,2,3,3,4,5]))\n",
        "print(has_duplicates([1,5,7,6,8,9,4,3]))"
      ],
      "metadata": {
        "colab": {
          "base_uri": "https://localhost:8080/"
        },
        "id": "4urvSUTMlSlM",
        "outputId": "5d0680d1-259b-4fe3-8288-cc228dbe8996"
      },
      "execution_count": 41,
      "outputs": [
        {
          "output_type": "stream",
          "name": "stdout",
          "text": [
            "True\n",
            "False\n"
          ]
        }
      ]
    },
    {
      "cell_type": "code",
      "source": [
        "def extend_wordlist(wordlist):\n",
        "  extra_words = [\"i\",\"a\",\" \"]\n",
        "  for word in extra_words:\n",
        "    if word not in wordlist:\n",
        "       wordlist.append(word)\n",
        "    return wordlist\n",
        "\n",
        "words = ['hello', 'words', 'python']\n",
        "words = extend_wordlist(words)\n",
        "print(words)"
      ],
      "metadata": {
        "colab": {
          "base_uri": "https://localhost:8080/"
        },
        "id": "0C4Wk9q1CohF",
        "outputId": "926abc39-8d47-4be9-8191-e6e95fba8421"
      },
      "execution_count": 42,
      "outputs": [
        {
          "output_type": "stream",
          "name": "stdout",
          "text": [
            "['hello', 'words', 'python', 'i']\n"
          ]
        }
      ]
    },
    {
      "cell_type": "code",
      "source": [
        "user_input = input('Enter items as key:value, separated by commas: ')\n",
        "\n",
        "d = dict(item.strip().split(':') for item in user_input.split(','))\n",
        "\n",
        "inverted = {v: k for k, v in d.items()}\n",
        "\n",
        "print(\"Inverted dictionary:\", inverted)"
      ],
      "metadata": {
        "colab": {
          "base_uri": "https://localhost:8080/"
        },
        "id": "ohcfUGjcRSQr",
        "outputId": "41eb2f65-1996-4dd4-e499-00d3be626687"
      },
      "execution_count": 43,
      "outputs": [
        {
          "output_type": "stream",
          "name": "stdout",
          "text": [
            "Enter items as key:value, separated by commas: m:5,l:6,k:9\n",
            "Inverted dictionary: {'5': 'm', '6': 'l', '9': 'k'}\n"
          ]
        }
      ]
    },
    {
      "cell_type": "code",
      "source": [
        "def add_commas(word):\n",
        "  return','.join(word)\n",
        "\n",
        "input_word = input(\"Enter the word:\")\n",
        "result = add_commas(input_word)\n",
        "print(result)"
      ],
      "metadata": {
        "colab": {
          "base_uri": "https://localhost:8080/"
        },
        "id": "-nSTTPJRY8_C",
        "outputId": "56bf4523-cdc1-4778-e8d1-74444317b8e6"
      },
      "execution_count": 44,
      "outputs": [
        {
          "output_type": "stream",
          "name": "stdout",
          "text": [
            "Enter the word:apple\n",
            "a,p,p,l,e\n"
          ]
        }
      ]
    },
    {
      "cell_type": "code",
      "source": [
        "def remove_word_from_string(sentence, word):\n",
        "  return' '.join(w for w in sentence.split() if w != word)\n",
        "\n",
        "sentence = input(\"Enter a sentence:\")\n",
        "word = input(\"Enter a word to remove:\")\n",
        "result = remove_word_from_string(sentence,word)\n",
        "print(\"Result:\",result)"
      ],
      "metadata": {
        "colab": {
          "base_uri": "https://localhost:8080/"
        },
        "id": "kINkQe7vbFBj",
        "outputId": "49dddc4c-08f0-4e8b-912d-500f92ebec0f"
      },
      "execution_count": 45,
      "outputs": [
        {
          "output_type": "stream",
          "name": "stdout",
          "text": [
            "Enter a sentence:i am a warrior\n",
            "Enter a word to remove:am\n",
            "Result: i a warrior\n"
          ]
        }
      ]
    },
    {
      "cell_type": "code",
      "source": [
        "def capitalize_words(sentence):\n",
        "\n",
        "    result = []\n",
        "    for word in sentence.split():\n",
        "        if word:\n",
        "            first = word[0]\n",
        "            rest = word[1:]\n",
        "\n",
        "            if 'a' <= first <= 'z':\n",
        "                first = chr(ord(first) - 32)\n",
        "            elif 'A' <= first <= 'Z':\n",
        "                first = first\n",
        "\n",
        "            lower_rest = ''\n",
        "            for c in rest:\n",
        "                if 'A' <= c <= 'Z':\n",
        "                    lower_rest += chr(ord(c) + 32)\n",
        "                else:\n",
        "                    lower_rest += c\n",
        "            result.append(first + lower_rest)\n",
        "    return ' '.join(result)\n",
        "\n",
        "sentence = input(\"Enter a sentence: \")\n",
        "print(capitalize_words(sentence))"
      ],
      "metadata": {
        "colab": {
          "base_uri": "https://localhost:8080/"
        },
        "id": "K2FwH7NYfPsy",
        "outputId": "2befc70f-d96e-427d-b816-beda3ff86d41"
      },
      "execution_count": 46,
      "outputs": [
        {
          "output_type": "stream",
          "name": "stdout",
          "text": [
            "Enter a sentence: i am deekshit\n",
            "I Am Deekshit\n"
          ]
        }
      ]
    },
    {
      "cell_type": "code",
      "source": [
        "rows = int(input(\"Enter the number of rows:\"))\n",
        "\n",
        "for i in range(1, rows + 1):\n",
        "  for j in range(1, i + 1):\n",
        "    print(j, end=' ')\n",
        "  print()"
      ],
      "metadata": {
        "colab": {
          "base_uri": "https://localhost:8080/"
        },
        "id": "P_A_AEVlfwaL",
        "outputId": "7e6bd17d-e704-4cc8-bac3-ce0a48e0f878"
      },
      "execution_count": 47,
      "outputs": [
        {
          "output_type": "stream",
          "name": "stdout",
          "text": [
            "Enter the number of rows:6\n",
            "1 \n",
            "1 2 \n",
            "1 2 3 \n",
            "1 2 3 4 \n",
            "1 2 3 4 5 \n",
            "1 2 3 4 5 6 \n"
          ]
        }
      ]
    },
    {
      "cell_type": "code",
      "source": [
        "def generate_binary_strings(n, prefix=\"\"):\n",
        "\n",
        "    if n == 0:\n",
        "        print(prefix)\n",
        "    else:\n",
        "        generate_binary_strings(n - 1, prefix + \"0\")\n",
        "        generate_binary_strings(n - 1, prefix + \"1\")\n",
        "\n",
        "n = int(input(\"Enter the number of bits: \"))\n",
        "generate_binary_strings(n)"
      ],
      "metadata": {
        "colab": {
          "base_uri": "https://localhost:8080/"
        },
        "id": "cQMk1itshdVq",
        "outputId": "489e0191-da04-46e7-8d3a-14691f09aece"
      },
      "execution_count": 48,
      "outputs": [
        {
          "output_type": "stream",
          "name": "stdout",
          "text": [
            "Enter the number of bits: 4\n",
            "0000\n",
            "0001\n",
            "0010\n",
            "0011\n",
            "0100\n",
            "0101\n",
            "0110\n",
            "0111\n",
            "1000\n",
            "1001\n",
            "1010\n",
            "1011\n",
            "1100\n",
            "1101\n",
            "1110\n",
            "1111\n"
          ]
        }
      ]
    }
  ]
}